{
  "cells": [
    {
      "cell_type": "markdown",
      "metadata": {
        "id": "view-in-github",
        "colab_type": "text"
      },
      "source": [
        "<a href=\"https://colab.research.google.com/github/StevenMena/06MIAR_Aprendizaje_No_Supervisado/blob/main/08MIAR_Aprendizaje_por_refuerzo_Cuestionario_sobre_el_art%C3%ADculo_cient%C3%ADfico_World_Models.ipynb\" target=\"_parent\"><img src=\"https://colab.research.google.com/assets/colab-badge.svg\" alt=\"Open In Colab\"/></a>"
      ]
    },
    {
      "cell_type": "markdown",
      "id": "hindu-hunger",
      "metadata": {
        "id": "hindu-hunger"
      },
      "source": [
        "# Actividad - Cuestionario sobre el artículo científico *World Models*\n",
        "\n",
        "> La actividad se desarrollará de manera individual. Recordad que esta actividad se corresponde con un 10% de la nota final de la asignatura. Se puede entregar tanto en la presente notebook, como en pdf.\n",
        "\n"
      ]
    },
    {
      "cell_type": "markdown",
      "id": "ahead-release",
      "metadata": {
        "id": "ahead-release"
      },
      "source": [
        "---\n",
        "## 1. Enunciado\n",
        "\n",
        "> Esta actividad consiste en responder las siguientes preguntas relacionadas con el artículo científico *World Models*. Este artículo se engloba dentro del conjunto de soluciones *Model-Based*, ofreciendo un enfoque muy original a la hora de explotar el conocimiento de un modelo del entorno.\n",
        "Enlaces de interés para la actividad:\n",
        "*   World Models: https://worldmodels.github.io/\n",
        "*   World Models (paper): https://arxiv.org/abs/1803.10122"
      ]
    },
    {
      "cell_type": "markdown",
      "id": "about-traveler",
      "metadata": {
        "id": "about-traveler"
      },
      "source": [
        "---\n",
        "## 2. Preguntas"
      ]
    },
    {
      "cell_type": "markdown",
      "id": "protecting-developer",
      "metadata": {
        "id": "protecting-developer"
      },
      "source": [
        "**1) En el artículo se menciona el problema conocido como credit assignment problem. ¿En qué consiste?**"
      ]
    },
    {
      "cell_type": "markdown",
      "id": "intellectual-builder",
      "metadata": {
        "id": "intellectual-builder"
      },
      "source": []
    },
    {
      "cell_type": "markdown",
      "id": "corrected-onion",
      "metadata": {
        "id": "corrected-onion"
      },
      "source": [
        "**2) En este artículo se utiliza en varias ocasiones el término *transfer* para referirse al uso que se hace de la *policy* en el entorno real. Desde tu punto de vista, cómo de cercana está esta idea al concepto de *transfer learning*?**"
      ]
    },
    {
      "cell_type": "markdown",
      "id": "adapted-island",
      "metadata": {
        "id": "adapted-island"
      },
      "source": []
    },
    {
      "cell_type": "markdown",
      "id": "southwest-prayer",
      "metadata": {
        "id": "southwest-prayer"
      },
      "source": [
        "**3) ¿De cuántos modelos consta la solución? Cita las características principales en cada caso.**"
      ]
    },
    {
      "cell_type": "markdown",
      "id": "boring-egypt",
      "metadata": {
        "id": "boring-egypt"
      },
      "source": []
    },
    {
      "cell_type": "markdown",
      "id": "working-liverpool",
      "metadata": {
        "id": "working-liverpool"
      },
      "source": [
        "**4) En el entorno de *car racing*, ¿qué otra arquitectura de *Deep Learning* podría ser una opción para el modelo M?**"
      ]
    },
    {
      "cell_type": "markdown",
      "id": "tested-shell",
      "metadata": {
        "id": "tested-shell"
      },
      "source": []
    },
    {
      "cell_type": "markdown",
      "source": [
        "---"
      ],
      "metadata": {
        "id": "Muuqm5a7srPW"
      },
      "id": "Muuqm5a7srPW"
    }
  ],
  "metadata": {
    "kernelspec": {
      "display_name": "Python 3",
      "language": "python",
      "name": "python3"
    },
    "language_info": {
      "codemirror_mode": {
        "name": "ipython",
        "version": 3
      },
      "file_extension": ".py",
      "mimetype": "text/x-python",
      "name": "python",
      "nbconvert_exporter": "python",
      "pygments_lexer": "ipython3",
      "version": "3.7.9"
    },
    "colab": {
      "provenance": [],
      "include_colab_link": true
    }
  },
  "nbformat": 4,
  "nbformat_minor": 5
}